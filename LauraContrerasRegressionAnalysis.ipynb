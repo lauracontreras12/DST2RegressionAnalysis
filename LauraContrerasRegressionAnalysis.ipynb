{
 "cells": [
  {
   "cell_type": "markdown",
   "id": "15526e54",
   "metadata": {},
   "source": [
    "### COMP 4448: Data Science Tools II\t\t\t\t\t\t         Assignment 6\n",
    "\n",
    "Name: Laura Contreras\n",
    "\n",
    "Directions: Do this assignment in Jupyter Notebook and provide screenshots of code and output in this word document wherever required. You will upload this word document containing screenshots of code and answers as well as your Jupyter Notebook to Canvas. All assignments will be submitted and graded through canvas and grades will be transferred to the 2U platform. \n",
    "Goal: The goal of this assignment is to give you the opportunity to implement the Gradient Algorithm from scratch as well as using tools built into sklearn. You will also run regression analysis, evaluate, test assumptions and provide interpretations using your own data.\n",
    "Packages: Core packages you may need for this assignment include numpy, pandas, sklearn, matplotlib.pyplot and/or seaborn. \n"
   ]
  },
  {
   "cell_type": "code",
   "execution_count": 88,
   "id": "6fc2d370",
   "metadata": {},
   "outputs": [],
   "source": [
    "import pandas as pd\n",
    "import numpy as np\n",
    "import math\n",
    "from sklearn.preprocessing import StandardScaler\n",
    "from sklearn.model_selection import train_test_split\n",
    "from patsy import dmatrix\n",
    "from numpy.linalg import inv\n",
    "import seaborn as sns\n",
    "import matplotlib.pyplot as plt"
   ]
  },
  {
   "cell_type": "markdown",
   "id": "25d3424c",
   "metadata": {},
   "source": [
    "## Question 1"
   ]
  },
  {
   "cell_type": "markdown",
   "id": "230a2a83",
   "metadata": {},
   "source": [
    "#### Importing and scaling the dataset\n",
    "\n",
    "Use the entire health data provided on canvas for this question. Here are the first few rows of the data. \n",
    "The variables are described as follows:\n",
    "age  =  Age in years divided by 100.\n",
    "income = Annual income in tens of thousands of dollars.\n",
    "illness = Number of illnesses in past 2 weeks.\n",
    "reduced = Number of days of reduced activity in past 2 weeks due to illness or injury.\n",
    "health = General health questionnaire score using Goldberg's method. Note that higher health scores indicate worse health condition. \n",
    "Use the age, income, illness and reduced variables as input variables and use the health variable as an output variable. You will find the parameters or coefficients (intercept and slopes) of a regression equation that models the relationship between the input and output variables. First use the StandardScaler() in sklearn to standardize the input data before you run your algorithm or fit your model. "
   ]
  },
  {
   "cell_type": "code",
   "execution_count": 17,
   "id": "611bcb41",
   "metadata": {},
   "outputs": [],
   "source": [
    "health = pd.read_csv(\"Health_Data.csv\", skipinitialspace =True)"
   ]
  },
  {
   "cell_type": "code",
   "execution_count": 18,
   "id": "42bdd398",
   "metadata": {},
   "outputs": [
    {
     "data": {
      "text/plain": [
       "age        0\n",
       "income     0\n",
       "illness    0\n",
       "reduced    0\n",
       "health     0\n",
       "dtype: int64"
      ]
     },
     "execution_count": 18,
     "metadata": {},
     "output_type": "execute_result"
    }
   ],
   "source": [
    "health.isnull().sum()"
   ]
  },
  {
   "cell_type": "code",
   "execution_count": 19,
   "id": "f114d2a5",
   "metadata": {},
   "outputs": [
    {
     "data": {
      "text/html": [
       "<div>\n",
       "<style scoped>\n",
       "    .dataframe tbody tr th:only-of-type {\n",
       "        vertical-align: middle;\n",
       "    }\n",
       "\n",
       "    .dataframe tbody tr th {\n",
       "        vertical-align: top;\n",
       "    }\n",
       "\n",
       "    .dataframe thead th {\n",
       "        text-align: right;\n",
       "    }\n",
       "</style>\n",
       "<table border=\"1\" class=\"dataframe\">\n",
       "  <thead>\n",
       "    <tr style=\"text-align: right;\">\n",
       "      <th></th>\n",
       "      <th>age</th>\n",
       "      <th>income</th>\n",
       "      <th>illness</th>\n",
       "      <th>reduced</th>\n",
       "      <th>health</th>\n",
       "    </tr>\n",
       "  </thead>\n",
       "  <tbody>\n",
       "    <tr>\n",
       "      <th>0</th>\n",
       "      <td>0.19</td>\n",
       "      <td>0.55</td>\n",
       "      <td>1</td>\n",
       "      <td>4</td>\n",
       "      <td>1</td>\n",
       "    </tr>\n",
       "    <tr>\n",
       "      <th>1</th>\n",
       "      <td>0.19</td>\n",
       "      <td>0.45</td>\n",
       "      <td>1</td>\n",
       "      <td>2</td>\n",
       "      <td>1</td>\n",
       "    </tr>\n",
       "    <tr>\n",
       "      <th>2</th>\n",
       "      <td>0.19</td>\n",
       "      <td>0.90</td>\n",
       "      <td>3</td>\n",
       "      <td>0</td>\n",
       "      <td>0</td>\n",
       "    </tr>\n",
       "    <tr>\n",
       "      <th>3</th>\n",
       "      <td>0.19</td>\n",
       "      <td>0.15</td>\n",
       "      <td>1</td>\n",
       "      <td>0</td>\n",
       "      <td>0</td>\n",
       "    </tr>\n",
       "    <tr>\n",
       "      <th>4</th>\n",
       "      <td>0.19</td>\n",
       "      <td>0.45</td>\n",
       "      <td>2</td>\n",
       "      <td>5</td>\n",
       "      <td>1</td>\n",
       "    </tr>\n",
       "  </tbody>\n",
       "</table>\n",
       "</div>"
      ],
      "text/plain": [
       "    age  income  illness  reduced  health\n",
       "0  0.19    0.55        1        4       1\n",
       "1  0.19    0.45        1        2       1\n",
       "2  0.19    0.90        3        0       0\n",
       "3  0.19    0.15        1        0       0\n",
       "4  0.19    0.45        2        5       1"
      ]
     },
     "execution_count": 19,
     "metadata": {},
     "output_type": "execute_result"
    }
   ],
   "source": [
    "health.head(5)"
   ]
  },
  {
   "cell_type": "code",
   "execution_count": 20,
   "id": "f33862db",
   "metadata": {},
   "outputs": [],
   "source": [
    "## Utilize the standard scalar\n",
    "for col in ['age', 'income', 'illness', 'reduced']:\n",
    "    arr = np.array(health[col])\n",
    "    scaler = StandardScaler()\n",
    "    scaler.fit(arr.reshape(-1,1))\n",
    "    health[col]=scaler.transform(arr.reshape(-1,1))"
   ]
  },
  {
   "cell_type": "code",
   "execution_count": 21,
   "id": "4e87d324",
   "metadata": {},
   "outputs": [
    {
     "data": {
      "text/html": [
       "<div>\n",
       "<style scoped>\n",
       "    .dataframe tbody tr th:only-of-type {\n",
       "        vertical-align: middle;\n",
       "    }\n",
       "\n",
       "    .dataframe tbody tr th {\n",
       "        vertical-align: top;\n",
       "    }\n",
       "\n",
       "    .dataframe thead th {\n",
       "        text-align: right;\n",
       "    }\n",
       "</style>\n",
       "<table border=\"1\" class=\"dataframe\">\n",
       "  <thead>\n",
       "    <tr style=\"text-align: right;\">\n",
       "      <th></th>\n",
       "      <th>age</th>\n",
       "      <th>income</th>\n",
       "      <th>illness</th>\n",
       "      <th>reduced</th>\n",
       "      <th>health</th>\n",
       "    </tr>\n",
       "  </thead>\n",
       "  <tbody>\n",
       "    <tr>\n",
       "      <th>0</th>\n",
       "      <td>-1.056765</td>\n",
       "      <td>-0.089896</td>\n",
       "      <td>-0.312123</td>\n",
       "      <td>1.086862</td>\n",
       "      <td>1</td>\n",
       "    </tr>\n",
       "    <tr>\n",
       "      <th>1</th>\n",
       "      <td>-1.056765</td>\n",
       "      <td>-0.360993</td>\n",
       "      <td>-0.312123</td>\n",
       "      <td>0.394185</td>\n",
       "      <td>1</td>\n",
       "    </tr>\n",
       "    <tr>\n",
       "      <th>2</th>\n",
       "      <td>-1.056765</td>\n",
       "      <td>0.858945</td>\n",
       "      <td>1.132944</td>\n",
       "      <td>-0.298492</td>\n",
       "      <td>0</td>\n",
       "    </tr>\n",
       "    <tr>\n",
       "      <th>3</th>\n",
       "      <td>-1.056765</td>\n",
       "      <td>-1.174285</td>\n",
       "      <td>-0.312123</td>\n",
       "      <td>-0.298492</td>\n",
       "      <td>0</td>\n",
       "    </tr>\n",
       "    <tr>\n",
       "      <th>4</th>\n",
       "      <td>-1.056765</td>\n",
       "      <td>-0.360993</td>\n",
       "      <td>0.410410</td>\n",
       "      <td>1.433200</td>\n",
       "      <td>1</td>\n",
       "    </tr>\n",
       "  </tbody>\n",
       "</table>\n",
       "</div>"
      ],
      "text/plain": [
       "        age    income   illness   reduced  health\n",
       "0 -1.056765 -0.089896 -0.312123  1.086862       1\n",
       "1 -1.056765 -0.360993 -0.312123  0.394185       1\n",
       "2 -1.056765  0.858945  1.132944 -0.298492       0\n",
       "3 -1.056765 -1.174285 -0.312123 -0.298492       0\n",
       "4 -1.056765 -0.360993  0.410410  1.433200       1"
      ]
     },
     "execution_count": 21,
     "metadata": {},
     "output_type": "execute_result"
    }
   ],
   "source": [
    "health.head(5)"
   ]
  },
  {
   "cell_type": "markdown",
   "id": "ef15cf0a",
   "metadata": {},
   "source": [
    "### 1a)\n",
    "Implement batch gradient descent from scratch to find the regression parameters as in the pseudo code below:"
   ]
  },
  {
   "cell_type": "code",
   "execution_count": 22,
   "id": "e0674fbb",
   "metadata": {},
   "outputs": [
    {
     "name": "stdout",
     "output_type": "stream",
     "text": [
      "Coefficients b0: 1.2175337186897788, b1: -0.17273499897030503, b2: -0.10539057012366393, b3: 0.684909381277941, b4: 0.45714456103590073\n"
     ]
    }
   ],
   "source": [
    "# implementing batch gradient decent\n",
    "b0 = 0\n",
    "b1 = 0\n",
    "b2 = 0\n",
    "b3 = 0\n",
    "b4 = 0\n",
    "\n",
    "n = len(health)\n",
    "a = .01\n",
    "iterations = 10000\n",
    "\n",
    "for i in range(iterations):\n",
    "    predicted_y = b0 + b1*health['age'] + b2*health['income'] + b3*health['illness'] + b4*health['reduced']\n",
    "    errors =  health['health'] - predicted_y\n",
    "    b0 = b0 + a*(1/n) * sum(errors)\n",
    "    b1 = b1 + a*(1/n) * sum(errors*health['age'])\n",
    "    b2 = b2 + a*(1/n) * sum(errors*health['income'])\n",
    "    b3 = b3 + a*(1/n) * sum(errors*health['illness'])\n",
    "    b4 = b4 + a*(1/n) * sum(errors*health['reduced'])\n",
    "print(f\"Coefficients b0: {b0}, b1: {b1}, b2: {b2}, b3: {b3}, b4: {b4}\")"
   ]
  },
  {
   "cell_type": "markdown",
   "id": "5911887f",
   "metadata": {},
   "source": [
    "### 1b) \n",
    "Now, use a vectorized or matrix implementation instead of having a line of code for each x or b. That mean, you can a create a vector of b’s and a feature matrix, X where you have an additional column for x0 whose values are 1’s. x0 corresponds to b0. You can still implement it as described in the code above. \n",
    "\n",
    "See the “Gradient Descent Vector/Matrix Implementation” document on canvas for additional tips\n"
   ]
  },
  {
   "cell_type": "code",
   "execution_count": 37,
   "id": "9f1a1c27",
   "metadata": {},
   "outputs": [
    {
     "name": "stdout",
     "output_type": "stream",
     "text": [
      "[[ 1.21753372 -0.172735   -0.10539057  0.68490938  0.45714456]]\n"
     ]
    }
   ],
   "source": [
    "#initializing variables \n",
    "X = dmatrix(\"age + income + illness +reduced\", health)[:]\n",
    "y = np.array(health['health']).reshape(1,n)\n",
    "n = len(health)\n",
    "a = 0.01\n",
    "iterations = 10000\n",
    "\n",
    "# implementing batch gradient decent\n",
    "b = np.array([0,0,0,0,0]).reshape(1,5)\n",
    "x_t = np.vstack(X.T)\n",
    "\n",
    "for i in range(iterations):\n",
    "    predicted_y = np.matmul(b, x_t)\n",
    "    errors = y - predicted_y\n",
    "    b = b + a*(1/n)*np.sum(errors.T*x_t.T, axis=0)\n",
    "print(b)"
   ]
  },
  {
   "cell_type": "markdown",
   "id": "38df07c1",
   "metadata": {},
   "source": [
    "### 1c)\n",
    "Use the scikit-learn package to implement the stochastic gradient descent to find the parameters of the regression equation. "
   ]
  },
  {
   "cell_type": "code",
   "execution_count": 43,
   "id": "48e9a952",
   "metadata": {},
   "outputs": [],
   "source": [
    "from sklearn.linear_model import SGDRegressor"
   ]
  },
  {
   "cell_type": "code",
   "execution_count": 44,
   "id": "d503d73a",
   "metadata": {},
   "outputs": [],
   "source": [
    "# Getting the data\n",
    "y = health['health']\n",
    "X = health.drop('health', axis = 1)"
   ]
  },
  {
   "cell_type": "code",
   "execution_count": 45,
   "id": "0b2d487c",
   "metadata": {},
   "outputs": [
    {
     "data": {
      "text/plain": [
       "array([-0.18012626, -0.19927024,  0.66622554,  0.52367868])"
      ]
     },
     "execution_count": 45,
     "metadata": {},
     "output_type": "execute_result"
    }
   ],
   "source": [
    "sgd = SGDRegressor()\n",
    "sgd.fit(X_train, y_train)\n",
    "sgd.coef_"
   ]
  },
  {
   "cell_type": "markdown",
   "id": "127e1e9e",
   "metadata": {},
   "source": [
    "The coefficients obtained from the SGDRegressor are similar to my results in a and in b."
   ]
  },
  {
   "cell_type": "markdown",
   "id": "9967b4c5",
   "metadata": {},
   "source": [
    "## Question 2"
   ]
  },
  {
   "cell_type": "markdown",
   "id": "a06340fe",
   "metadata": {},
   "source": [
    "### 2a) \n",
    "a)\tUse the statsmodels package (https://www.statsmodels.org/stable/regression.html#examples) to implement a multiple linear regression using the entire health data to get a more detailed regression summary. \n",
    "Below is some pseudo code for implementation, see the documentation for details. "
   ]
  },
  {
   "cell_type": "code",
   "execution_count": 46,
   "id": "7ba33db6",
   "metadata": {},
   "outputs": [],
   "source": [
    "import statsmodels.api as sm\n",
    "y_Data = health['health']\n",
    "X_Data = health.drop('health', axis = 1) "
   ]
  },
  {
   "cell_type": "code",
   "execution_count": 47,
   "id": "37ea6651",
   "metadata": {},
   "outputs": [
    {
     "name": "stdout",
     "output_type": "stream",
     "text": [
      "                            OLS Regression Results                            \n",
      "==============================================================================\n",
      "Dep. Variable:                 health   R-squared:                       0.179\n",
      "Model:                            OLS   Adj. R-squared:                  0.179\n",
      "Method:                 Least Squares   F-statistic:                     282.9\n",
      "Date:                Mon, 07 Nov 2022   Prob (F-statistic):          2.35e-220\n",
      "Time:                        10:28:43   Log-Likelihood:                -10762.\n",
      "No. Observations:                5190   AIC:                         2.153e+04\n",
      "Df Residuals:                    5185   BIC:                         2.157e+04\n",
      "Df Model:                           4                                         \n",
      "Covariance Type:            nonrobust                                         \n",
      "==============================================================================\n",
      "                 coef    std err          t      P>|t|      [0.025      0.975]\n",
      "------------------------------------------------------------------------------\n",
      "age           -0.1727      0.028     -6.120      0.000      -0.228      -0.117\n",
      "income        -0.1054      0.028     -3.777      0.000      -0.160      -0.051\n",
      "illness        0.6849      0.028     24.442      0.000       0.630       0.740\n",
      "reduced        0.4571      0.027     16.671      0.000       0.403       0.511\n",
      "const          1.2175      0.027     45.558      0.000       1.165       1.270\n",
      "==============================================================================\n",
      "Omnibus:                     2321.918   Durbin-Watson:                   1.850\n",
      "Prob(Omnibus):                  0.000   Jarque-Bera (JB):            12281.302\n",
      "Skew:                           2.126   Prob(JB):                         0.00\n",
      "Kurtosis:                       9.222   Cond. No.                         1.45\n",
      "==============================================================================\n",
      "\n",
      "Notes:\n",
      "[1] Standard Errors assume that the covariance matrix of the errors is correctly specified.\n"
     ]
    }
   ],
   "source": [
    "feature_matrix = sm.add_constant(X_Data, prepend = False)\n",
    "model = sm.OLS(y_Data, feature_matrix)\n",
    "res = model.fit()\n",
    "print(res.summary())"
   ]
  },
  {
   "cell_type": "markdown",
   "id": "10058221",
   "metadata": {},
   "source": [
    "### 2b)\n",
    "Does the model fit the data overall? That is, do all the x’s overall explain a good amount of variance in health outcome? Use information from your results to support your answer. "
   ]
  },
  {
   "cell_type": "markdown",
   "id": "42ad003c",
   "metadata": {},
   "source": [
    "We obtained a low R2 (0.17) indicating that the model is not the best fit for the data. We have a very large F statistic indicating our variables are siginificant. When looking at our four input variables, we obtained a p value < 0.05 indcating they are significant. The prob (F-statistic) is less than 0.05 making it statisticaly significant. "
   ]
  },
  {
   "cell_type": "markdown",
   "id": "93b230b1",
   "metadata": {},
   "source": [
    "### 2c) \n",
    "Do age, income, illness and reduced variables individually  significantly predict health score? Use information from your summary of the regression results to support your answer."
   ]
  },
  {
   "cell_type": "markdown",
   "id": "d6592c91",
   "metadata": {},
   "source": [
    "We have a very large F statistic indicating our variables are siginificant. When looking at our four input variables, we obtained a p value < 0.05 indcating they are significant. "
   ]
  },
  {
   "cell_type": "markdown",
   "id": "0c7b08f3",
   "metadata": {},
   "source": [
    "### 2d)\n",
    "Which variable is the best predictor of health score? Why? "
   ]
  },
  {
   "cell_type": "markdown",
   "id": "0e430711",
   "metadata": {},
   "source": [
    "According to the summary above, the highest absolute coefficient is illness, 'X3, as it has 0.6849 coefficient and is also statistically significant with a pvalue < 0.05. "
   ]
  },
  {
   "cell_type": "markdown",
   "id": "8cfebd8d",
   "metadata": {},
   "source": [
    "### 2e)\n",
    "Extract the residuals of the model and test the assumptions normality and homogeneity of variance for the regression model. Are the assumptions met? Use reg.resid syntax to extract the residuals."
   ]
  },
  {
   "cell_type": "code",
   "execution_count": 49,
   "id": "d7054043",
   "metadata": {},
   "outputs": [
    {
     "data": {
      "text/plain": [
       "0      -0.692625\n",
       "1      -0.404543\n",
       "2      -1.949059\n",
       "3      -1.173603\n",
       "4      -1.374393\n",
       "          ...   \n",
       "5185   -0.539141\n",
       "5186    0.717322\n",
       "5187    0.006814\n",
       "5188   -0.257493\n",
       "5189   -0.203060\n",
       "Length: 5190, dtype: float64"
      ]
     },
     "execution_count": 49,
     "metadata": {},
     "output_type": "execute_result"
    }
   ],
   "source": [
    "res.resid"
   ]
  },
  {
   "cell_type": "code",
   "execution_count": 59,
   "id": "21553607",
   "metadata": {},
   "outputs": [
    {
     "data": {
      "image/png": "[encoded data removed]",
      "text/plain": [
       "<Figure size 432x288 with 1 Axes>"
      ]
     },
     "metadata": {
      "needs_background": "light"
     },
     "output_type": "display_data"
    }
   ],
   "source": [
    "sm.qqplot(res.resid, line = '45')\n",
    "plt.show()"
   ]
  },
  {
   "cell_type": "code",
   "execution_count": 63,
   "id": "c377a915",
   "metadata": {},
   "outputs": [
    {
     "data": {
      "text/plain": [
       "<AxesSubplot:>"
      ]
     },
     "execution_count": 63,
     "metadata": {},
     "output_type": "execute_result"
    },
    {
     "data": {
      "image/png": "[encoded data removed]",
      "text/plain": [
       "<Figure size 432x288 with 1 Axes>"
      ]
     },
     "metadata": {
      "needs_background": "light"
     },
     "output_type": "display_data"
    }
   ],
   "source": [
    "sns.boxplot(data = res.resid)"
   ]
  },
  {
   "cell_type": "code",
   "execution_count": 89,
   "id": "09e8fc66",
   "metadata": {},
   "outputs": [
    {
     "name": "stderr",
     "output_type": "stream",
     "text": [
      "C:\\Users\\15599\\Anaconda\\lib\\site-packages\\seaborn\\_decorators.py:36: FutureWarning: Pass the following variable as a keyword arg: x. From version 0.12, the only valid positional argument will be `data`, and passing other arguments without an explicit keyword will result in an error or misinterpretation.\n",
      "  warnings.warn(\n"
     ]
    },
    {
     "ename": "TypeError",
     "evalue": "unsupported operand type(s) for *: 'float' and 'NoneType'",
     "output_type": "error",
     "traceback": [
      "\u001b[1;31m---------------------------------------------------------------------------\u001b[0m",
      "\u001b[1;31mTypeError\u001b[0m                                 Traceback (most recent call last)",
      "Input \u001b[1;32mIn [89]\u001b[0m, in \u001b[0;36m<cell line: 1>\u001b[1;34m()\u001b[0m\n\u001b[1;32m----> 1\u001b[0m \u001b[43msns\u001b[49m\u001b[38;5;241;43m.\u001b[39;49m\u001b[43mresidplot\u001b[49m\u001b[43m(\u001b[49m\u001b[43mres\u001b[49m\u001b[38;5;241;43m.\u001b[39;49m\u001b[43mresid\u001b[49m\u001b[43m)\u001b[49m\n",
      "File \u001b[1;32m~\\Anaconda\\lib\\site-packages\\seaborn\\_decorators.py:46\u001b[0m, in \u001b[0;36m_deprecate_positional_args.<locals>.inner_f\u001b[1;34m(*args, **kwargs)\u001b[0m\n\u001b[0;32m     36\u001b[0m     warnings\u001b[38;5;241m.\u001b[39mwarn(\n\u001b[0;32m     37\u001b[0m         \u001b[38;5;124m\"\u001b[39m\u001b[38;5;124mPass the following variable\u001b[39m\u001b[38;5;132;01m{}\u001b[39;00m\u001b[38;5;124m as \u001b[39m\u001b[38;5;132;01m{}\u001b[39;00m\u001b[38;5;124mkeyword arg\u001b[39m\u001b[38;5;132;01m{}\u001b[39;00m\u001b[38;5;124m: \u001b[39m\u001b[38;5;132;01m{}\u001b[39;00m\u001b[38;5;124m. \u001b[39m\u001b[38;5;124m\"\u001b[39m\n\u001b[0;32m     38\u001b[0m         \u001b[38;5;124m\"\u001b[39m\u001b[38;5;124mFrom version 0.12, the only valid positional argument \u001b[39m\u001b[38;5;124m\"\u001b[39m\n\u001b[1;32m   (...)\u001b[0m\n\u001b[0;32m     43\u001b[0m         \u001b[38;5;167;01mFutureWarning\u001b[39;00m\n\u001b[0;32m     44\u001b[0m     )\n\u001b[0;32m     45\u001b[0m kwargs\u001b[38;5;241m.\u001b[39mupdate({k: arg \u001b[38;5;28;01mfor\u001b[39;00m k, arg \u001b[38;5;129;01min\u001b[39;00m \u001b[38;5;28mzip\u001b[39m(sig\u001b[38;5;241m.\u001b[39mparameters, args)})\n\u001b[1;32m---> 46\u001b[0m \u001b[38;5;28;01mreturn\u001b[39;00m f(\u001b[38;5;241m*\u001b[39m\u001b[38;5;241m*\u001b[39mkwargs)\n",
      "File \u001b[1;32m~\\Anaconda\\lib\\site-packages\\seaborn\\regression.py:1105\u001b[0m, in \u001b[0;36mresidplot\u001b[1;34m(x, y, data, lowess, x_partial, y_partial, order, robust, dropna, label, color, scatter_kws, line_kws, ax)\u001b[0m\n\u001b[0;32m   1102\u001b[0m     ax \u001b[38;5;241m=\u001b[39m plt\u001b[38;5;241m.\u001b[39mgca()\n\u001b[0;32m   1104\u001b[0m \u001b[38;5;66;03m# Calculate the residual from a linear regression\u001b[39;00m\n\u001b[1;32m-> 1105\u001b[0m _, yhat, _ \u001b[38;5;241m=\u001b[39m \u001b[43mplotter\u001b[49m\u001b[38;5;241;43m.\u001b[39;49m\u001b[43mfit_regression\u001b[49m\u001b[43m(\u001b[49m\u001b[43mgrid\u001b[49m\u001b[38;5;241;43m=\u001b[39;49m\u001b[43mplotter\u001b[49m\u001b[38;5;241;43m.\u001b[39;49m\u001b[43mx\u001b[49m\u001b[43m)\u001b[49m\n\u001b[0;32m   1106\u001b[0m plotter\u001b[38;5;241m.\u001b[39my \u001b[38;5;241m=\u001b[39m plotter\u001b[38;5;241m.\u001b[39my \u001b[38;5;241m-\u001b[39m yhat\n\u001b[0;32m   1108\u001b[0m \u001b[38;5;66;03m# Set the regression option on the plotter\u001b[39;00m\n",
      "File \u001b[1;32m~\\Anaconda\\lib\\site-packages\\seaborn\\regression.py:221\u001b[0m, in \u001b[0;36m_RegressionPlotter.fit_regression\u001b[1;34m(self, ax, x_range, grid)\u001b[0m\n\u001b[0;32m    219\u001b[0m     yhat, yhat_boots \u001b[38;5;241m=\u001b[39m \u001b[38;5;28mself\u001b[39m\u001b[38;5;241m.\u001b[39mfit_logx(grid)\n\u001b[0;32m    220\u001b[0m \u001b[38;5;28;01melse\u001b[39;00m:\n\u001b[1;32m--> 221\u001b[0m     yhat, yhat_boots \u001b[38;5;241m=\u001b[39m \u001b[38;5;28;43mself\u001b[39;49m\u001b[38;5;241;43m.\u001b[39;49m\u001b[43mfit_fast\u001b[49m\u001b[43m(\u001b[49m\u001b[43mgrid\u001b[49m\u001b[43m)\u001b[49m\n\u001b[0;32m    223\u001b[0m \u001b[38;5;66;03m# Compute the confidence interval at each grid point\u001b[39;00m\n\u001b[0;32m    224\u001b[0m \u001b[38;5;28;01mif\u001b[39;00m ci \u001b[38;5;129;01mis\u001b[39;00m \u001b[38;5;28;01mNone\u001b[39;00m:\n",
      "File \u001b[1;32m~\\Anaconda\\lib\\site-packages\\seaborn\\regression.py:238\u001b[0m, in \u001b[0;36m_RegressionPlotter.fit_fast\u001b[1;34m(self, grid)\u001b[0m\n\u001b[0;32m    236\u001b[0m X, y \u001b[38;5;241m=\u001b[39m np\u001b[38;5;241m.\u001b[39mc_[np\u001b[38;5;241m.\u001b[39mones(\u001b[38;5;28mlen\u001b[39m(\u001b[38;5;28mself\u001b[39m\u001b[38;5;241m.\u001b[39mx)), \u001b[38;5;28mself\u001b[39m\u001b[38;5;241m.\u001b[39mx], \u001b[38;5;28mself\u001b[39m\u001b[38;5;241m.\u001b[39my\n\u001b[0;32m    237\u001b[0m grid \u001b[38;5;241m=\u001b[39m np\u001b[38;5;241m.\u001b[39mc_[np\u001b[38;5;241m.\u001b[39mones(\u001b[38;5;28mlen\u001b[39m(grid)), grid]\n\u001b[1;32m--> 238\u001b[0m yhat \u001b[38;5;241m=\u001b[39m grid\u001b[38;5;241m.\u001b[39mdot(\u001b[43mreg_func\u001b[49m\u001b[43m(\u001b[49m\u001b[43mX\u001b[49m\u001b[43m,\u001b[49m\u001b[43m \u001b[49m\u001b[43my\u001b[49m\u001b[43m)\u001b[49m)\n\u001b[0;32m    239\u001b[0m \u001b[38;5;28;01mif\u001b[39;00m \u001b[38;5;28mself\u001b[39m\u001b[38;5;241m.\u001b[39mci \u001b[38;5;129;01mis\u001b[39;00m \u001b[38;5;28;01mNone\u001b[39;00m:\n\u001b[0;32m    240\u001b[0m     \u001b[38;5;28;01mreturn\u001b[39;00m yhat, \u001b[38;5;28;01mNone\u001b[39;00m\n",
      "File \u001b[1;32m~\\Anaconda\\lib\\site-packages\\seaborn\\regression.py:234\u001b[0m, in \u001b[0;36m_RegressionPlotter.fit_fast.<locals>.reg_func\u001b[1;34m(_x, _y)\u001b[0m\n\u001b[0;32m    233\u001b[0m \u001b[38;5;28;01mdef\u001b[39;00m \u001b[38;5;21mreg_func\u001b[39m(_x, _y):\n\u001b[1;32m--> 234\u001b[0m     \u001b[38;5;28;01mreturn\u001b[39;00m \u001b[43mnp\u001b[49m\u001b[38;5;241;43m.\u001b[39;49m\u001b[43mlinalg\u001b[49m\u001b[38;5;241;43m.\u001b[39;49m\u001b[43mpinv\u001b[49m\u001b[43m(\u001b[49m\u001b[43m_x\u001b[49m\u001b[43m)\u001b[49m\u001b[38;5;241;43m.\u001b[39;49m\u001b[43mdot\u001b[49m\u001b[43m(\u001b[49m\u001b[43m_y\u001b[49m\u001b[43m)\u001b[49m\n",
      "\u001b[1;31mTypeError\u001b[0m: unsupported operand type(s) for *: 'float' and 'NoneType'"
     ]
    },
    {
     "data": {
      "image/png": "[encoded data removed]",
      "text/plain": [
       "<Figure size 432x288 with 1 Axes>"
      ]
     },
     "metadata": {
      "needs_background": "light"
     },
     "output_type": "display_data"
    }
   ],
   "source": [
    "sns.residplot(res.resid)"
   ]
  },
  {
   "cell_type": "markdown",
   "id": "04af54cd",
   "metadata": {},
   "source": [
    "After looking at the qqplot and the box plot, we can see that the data does not meet the assumptions of normality. "
   ]
  },
  {
   "cell_type": "markdown",
   "id": "91af8d0b",
   "metadata": {},
   "source": [
    "### 2f)\n",
    "To further verify the normality assumption, create a histogram for the residuals. Does the histogram look like a normal distribution? "
   ]
  },
  {
   "cell_type": "code",
   "execution_count": 62,
   "id": "3d5ff1f5",
   "metadata": {},
   "outputs": [
    {
     "data": {
      "text/plain": [
       "<AxesSubplot:ylabel='Count'>"
      ]
     },
     "execution_count": 62,
     "metadata": {},
     "output_type": "execute_result"
    },
    {
     "data": {
      "image/png": "[encoded data removed]",
      "text/plain": [
       "<Figure size 432x288 with 1 Axes>"
      ]
     },
     "metadata": {
      "needs_background": "light"
     },
     "output_type": "display_data"
    }
   ],
   "source": [
    "sns.histplot(res.resid, kde = True)"
   ]
  },
  {
   "cell_type": "markdown",
   "id": "d3988be0",
   "metadata": {},
   "source": [
    "Looking at the histplot, we see that the data is right-skewed and does not appear normally distributed"
   ]
  },
  {
   "cell_type": "markdown",
   "id": "cbbb632c",
   "metadata": {},
   "source": [
    "### 2g)\n",
    "Test the linearity assumption by creating separate scatter plots for each input variable versus output variable. According to your plots, are the linearity assumptions met? "
   ]
  },
  {
   "cell_type": "code",
   "execution_count": 67,
   "id": "99e0193e",
   "metadata": {},
   "outputs": [
    {
     "data": {
      "image/png": "[encoded data removed]",
      "text/plain": [
       "<Figure size 432x288 with 1 Axes>"
      ]
     },
     "metadata": {
      "needs_background": "light"
     },
     "output_type": "display_data"
    },
    {
     "data": {
      "image/png": "[encoded data removed]",
      "text/plain": [
       "<Figure size 432x288 with 1 Axes>"
      ]
     },
     "metadata": {
      "needs_background": "light"
     },
     "output_type": "display_data"
    },
    {
     "data": {
      "image/png": "[encoded data removed]",
      "text/plain": [
       "<Figure size 432x288 with 1 Axes>"
      ]
     },
     "metadata": {
      "needs_background": "light"
     },
     "output_type": "display_data"
    },
    {
     "data": {
      "image/png": "[encoded data removed]",
      "text/plain": [
       "<Figure size 432x288 with 1 Axes>"
      ]
     },
     "metadata": {
      "needs_background": "light"
     },
     "output_type": "display_data"
    }
   ],
   "source": [
    "for col in ['age', 'illness', 'income', 'reduced']:\n",
    "    sns.scatterplot(data = health, x = col, y = 'health')\n",
    "    plt.show()\n"
   ]
  },
  {
   "cell_type": "markdown",
   "id": "25e59c7e",
   "metadata": {},
   "source": [
    "No, according to the scatterplots, this does not appear the linearity assumptions have been met."
   ]
  },
  {
   "cell_type": "markdown",
   "id": "52e8a572",
   "metadata": {},
   "source": [
    "### 2h)\n",
    "Extract the predicted output values from the model, then create a scatter plot of the predicted output versus actual output (from the data provided). This plot is also used to evaluate the accuracy of the model. According to the plot, is your model good for predicting health scores? Use the reg.predict() method to extract the predicted values. "
   ]
  },
  {
   "cell_type": "code",
   "execution_count": 68,
   "id": "de3aba2c",
   "metadata": {},
   "outputs": [],
   "source": [
    "preds = res.predict()"
   ]
  },
  {
   "cell_type": "code",
   "execution_count": 72,
   "id": "0af6df8b",
   "metadata": {},
   "outputs": [
    {
     "data": {
      "image/png": "[encoded data removed]",
      "text/plain": [
       "<Figure size 432x288 with 1 Axes>"
      ]
     },
     "metadata": {
      "needs_background": "light"
     },
     "output_type": "display_data"
    }
   ],
   "source": [
    "plt.scatter(preds, y)\n",
    "plt.xlabel(xlabel = 'Predicted')\n",
    "plt.ylabel(ylabel = 'Actual')\n",
    "plt.show()"
   ]
  },
  {
   "cell_type": "markdown",
   "id": "6756609e",
   "metadata": {},
   "source": [
    "Based on our actual vs predicted, we can see that our model is not good for predicting health scores since we do not see a diagonal line in our scatterplot for actual vs predicted. "
   ]
  },
  {
   "cell_type": "markdown",
   "id": "5ebf0cf8",
   "metadata": {},
   "source": [
    "### 3i)\n",
    "Check for multi-collinearity by generating a covariance matrix for the input data . You can use the .cov() method of pandas (https://pandas.pydata.org/pandas-docs/stable/reference/api/pandas.DataFrame.cov.html). Do you think there is multicollinearity among the input variables? "
   ]
  },
  {
   "cell_type": "code",
   "execution_count": 74,
   "id": "6a28ac4d",
   "metadata": {},
   "outputs": [
    {
     "data": {
      "text/html": [
       "<div>\n",
       "<style scoped>\n",
       "    .dataframe tbody tr th:only-of-type {\n",
       "        vertical-align: middle;\n",
       "    }\n",
       "\n",
       "    .dataframe tbody tr th {\n",
       "        vertical-align: top;\n",
       "    }\n",
       "\n",
       "    .dataframe thead th {\n",
       "        text-align: right;\n",
       "    }\n",
       "</style>\n",
       "<table border=\"1\" class=\"dataframe\">\n",
       "  <thead>\n",
       "    <tr style=\"text-align: right;\">\n",
       "      <th></th>\n",
       "      <th>age</th>\n",
       "      <th>income</th>\n",
       "      <th>illness</th>\n",
       "      <th>reduced</th>\n",
       "    </tr>\n",
       "  </thead>\n",
       "  <tbody>\n",
       "    <tr>\n",
       "      <th>age</th>\n",
       "      <td>1.000193</td>\n",
       "      <td>-0.271126</td>\n",
       "      <td>0.205023</td>\n",
       "      <td>0.094763</td>\n",
       "    </tr>\n",
       "    <tr>\n",
       "      <th>income</th>\n",
       "      <td>-0.271126</td>\n",
       "      <td>1.000193</td>\n",
       "      <td>-0.148840</td>\n",
       "      <td>-0.047554</td>\n",
       "    </tr>\n",
       "    <tr>\n",
       "      <th>illness</th>\n",
       "      <td>0.205023</td>\n",
       "      <td>-0.148840</td>\n",
       "      <td>1.000193</td>\n",
       "      <td>0.218158</td>\n",
       "    </tr>\n",
       "    <tr>\n",
       "      <th>reduced</th>\n",
       "      <td>0.094763</td>\n",
       "      <td>-0.047554</td>\n",
       "      <td>0.218158</td>\n",
       "      <td>1.000193</td>\n",
       "    </tr>\n",
       "  </tbody>\n",
       "</table>\n",
       "</div>"
      ],
      "text/plain": [
       "              age    income   illness   reduced\n",
       "age      1.000193 -0.271126  0.205023  0.094763\n",
       "income  -0.271126  1.000193 -0.148840 -0.047554\n",
       "illness  0.205023 -0.148840  1.000193  0.218158\n",
       "reduced  0.094763 -0.047554  0.218158  1.000193"
      ]
     },
     "execution_count": 74,
     "metadata": {},
     "output_type": "execute_result"
    }
   ],
   "source": [
    "pd.DataFrame(X).cov()"
   ]
  },
  {
   "cell_type": "markdown",
   "id": "1eecca16",
   "metadata": {},
   "source": [
    "It does not appear that there is multicollinearity among the input variables. "
   ]
  },
  {
   "cell_type": "markdown",
   "id": "52cb98af",
   "metadata": {},
   "source": [
    "## Question 3"
   ]
  },
  {
   "cell_type": "markdown",
   "id": "4b8f6c47",
   "metadata": {},
   "source": [
    "#### Importing my dataset \n",
    "\n",
    "This is a stock market dataset with 516 observations and 5 continuous variables. \n",
    "\n",
    "* rfood: excess returns food industry\n",
    "* rdur: excess returns durables industry\n",
    "* rcon: excess returns construction industry\n",
    "* rmrf: excess returns market portfolio\n",
    "* rf: risk-free return"
   ]
  },
  {
   "cell_type": "code",
   "execution_count": 75,
   "id": "5fecb1c4",
   "metadata": {},
   "outputs": [],
   "source": [
    "## Stock market dataset\n",
    "stock = pd.read_csv(\"Capm.csv\", skipinitialspace = True)"
   ]
  },
  {
   "cell_type": "code",
   "execution_count": 76,
   "id": "0969ee49",
   "metadata": {},
   "outputs": [
    {
     "data": {
      "text/html": [
       "<div>\n",
       "<style scoped>\n",
       "    .dataframe tbody tr th:only-of-type {\n",
       "        vertical-align: middle;\n",
       "    }\n",
       "\n",
       "    .dataframe tbody tr th {\n",
       "        vertical-align: top;\n",
       "    }\n",
       "\n",
       "    .dataframe thead th {\n",
       "        text-align: right;\n",
       "    }\n",
       "</style>\n",
       "<table border=\"1\" class=\"dataframe\">\n",
       "  <thead>\n",
       "    <tr style=\"text-align: right;\">\n",
       "      <th></th>\n",
       "      <th>Unnamed: 0</th>\n",
       "      <th>rfood</th>\n",
       "      <th>rdur</th>\n",
       "      <th>rcon</th>\n",
       "      <th>rmrf</th>\n",
       "      <th>rf</th>\n",
       "    </tr>\n",
       "  </thead>\n",
       "  <tbody>\n",
       "    <tr>\n",
       "      <th>0</th>\n",
       "      <td>1</td>\n",
       "      <td>-4.59</td>\n",
       "      <td>0.87</td>\n",
       "      <td>-6.84</td>\n",
       "      <td>-6.99</td>\n",
       "      <td>0.33</td>\n",
       "    </tr>\n",
       "    <tr>\n",
       "      <th>1</th>\n",
       "      <td>2</td>\n",
       "      <td>2.62</td>\n",
       "      <td>3.46</td>\n",
       "      <td>2.78</td>\n",
       "      <td>0.99</td>\n",
       "      <td>0.29</td>\n",
       "    </tr>\n",
       "    <tr>\n",
       "      <th>2</th>\n",
       "      <td>3</td>\n",
       "      <td>-1.67</td>\n",
       "      <td>-2.28</td>\n",
       "      <td>-0.48</td>\n",
       "      <td>-1.46</td>\n",
       "      <td>0.35</td>\n",
       "    </tr>\n",
       "    <tr>\n",
       "      <th>3</th>\n",
       "      <td>4</td>\n",
       "      <td>0.86</td>\n",
       "      <td>2.41</td>\n",
       "      <td>-2.02</td>\n",
       "      <td>-1.70</td>\n",
       "      <td>0.19</td>\n",
       "    </tr>\n",
       "    <tr>\n",
       "      <th>4</th>\n",
       "      <td>5</td>\n",
       "      <td>7.34</td>\n",
       "      <td>6.33</td>\n",
       "      <td>3.69</td>\n",
       "      <td>3.08</td>\n",
       "      <td>0.27</td>\n",
       "    </tr>\n",
       "  </tbody>\n",
       "</table>\n",
       "</div>"
      ],
      "text/plain": [
       "   Unnamed: 0  rfood  rdur  rcon  rmrf    rf\n",
       "0           1  -4.59  0.87 -6.84 -6.99  0.33\n",
       "1           2   2.62  3.46  2.78  0.99  0.29\n",
       "2           3  -1.67 -2.28 -0.48 -1.46  0.35\n",
       "3           4   0.86  2.41 -2.02 -1.70  0.19\n",
       "4           5   7.34  6.33  3.69  3.08  0.27"
      ]
     },
     "execution_count": 76,
     "metadata": {},
     "output_type": "execute_result"
    }
   ],
   "source": [
    "stock.head(5)"
   ]
  },
  {
   "cell_type": "code",
   "execution_count": 77,
   "id": "0c8d29c2",
   "metadata": {},
   "outputs": [],
   "source": [
    "# Dropping index column 'Unnamed'\n",
    "stock.drop(columns = [\"Unnamed: 0\"], inplace = True)"
   ]
  },
  {
   "cell_type": "code",
   "execution_count": 78,
   "id": "1ecf0d1f",
   "metadata": {},
   "outputs": [
    {
     "data": {
      "text/plain": [
       "rfood    0\n",
       "rdur     0\n",
       "rcon     0\n",
       "rmrf     0\n",
       "rf       0\n",
       "dtype: int64"
      ]
     },
     "execution_count": 78,
     "metadata": {},
     "output_type": "execute_result"
    }
   ],
   "source": [
    "# Looking at null values\n",
    "stock.isnull().sum()"
   ]
  },
  {
   "cell_type": "code",
   "execution_count": 79,
   "id": "19ba153b",
   "metadata": {},
   "outputs": [
    {
     "data": {
      "text/html": [
       "<div>\n",
       "<style scoped>\n",
       "    .dataframe tbody tr th:only-of-type {\n",
       "        vertical-align: middle;\n",
       "    }\n",
       "\n",
       "    .dataframe tbody tr th {\n",
       "        vertical-align: top;\n",
       "    }\n",
       "\n",
       "    .dataframe thead th {\n",
       "        text-align: right;\n",
       "    }\n",
       "</style>\n",
       "<table border=\"1\" class=\"dataframe\">\n",
       "  <thead>\n",
       "    <tr style=\"text-align: right;\">\n",
       "      <th></th>\n",
       "      <th>rfood</th>\n",
       "      <th>rdur</th>\n",
       "      <th>rcon</th>\n",
       "      <th>rmrf</th>\n",
       "      <th>rf</th>\n",
       "    </tr>\n",
       "  </thead>\n",
       "  <tbody>\n",
       "    <tr>\n",
       "      <th>count</th>\n",
       "      <td>516.00000</td>\n",
       "      <td>516.000000</td>\n",
       "      <td>516.000000</td>\n",
       "      <td>516.000000</td>\n",
       "      <td>516.000000</td>\n",
       "    </tr>\n",
       "    <tr>\n",
       "      <th>mean</th>\n",
       "      <td>0.66469</td>\n",
       "      <td>0.525368</td>\n",
       "      <td>0.427752</td>\n",
       "      <td>0.415504</td>\n",
       "      <td>0.473430</td>\n",
       "    </tr>\n",
       "    <tr>\n",
       "      <th>std</th>\n",
       "      <td>4.54417</td>\n",
       "      <td>5.795300</td>\n",
       "      <td>5.790244</td>\n",
       "      <td>4.484188</td>\n",
       "      <td>0.220496</td>\n",
       "    </tr>\n",
       "    <tr>\n",
       "      <th>min</th>\n",
       "      <td>-18.79000</td>\n",
       "      <td>-25.740000</td>\n",
       "      <td>-29.810000</td>\n",
       "      <td>-23.090000</td>\n",
       "      <td>0.110000</td>\n",
       "    </tr>\n",
       "    <tr>\n",
       "      <th>25%</th>\n",
       "      <td>-1.65500</td>\n",
       "      <td>-2.752500</td>\n",
       "      <td>-2.735000</td>\n",
       "      <td>-2.230000</td>\n",
       "      <td>0.320000</td>\n",
       "    </tr>\n",
       "    <tr>\n",
       "      <th>50%</th>\n",
       "      <td>0.67500</td>\n",
       "      <td>0.505000</td>\n",
       "      <td>0.470000</td>\n",
       "      <td>0.730000</td>\n",
       "      <td>0.430000</td>\n",
       "    </tr>\n",
       "    <tr>\n",
       "      <th>75%</th>\n",
       "      <td>3.50750</td>\n",
       "      <td>4.000000</td>\n",
       "      <td>3.672500</td>\n",
       "      <td>3.422500</td>\n",
       "      <td>0.580000</td>\n",
       "    </tr>\n",
       "    <tr>\n",
       "      <th>max</th>\n",
       "      <td>19.56000</td>\n",
       "      <td>19.740000</td>\n",
       "      <td>24.670000</td>\n",
       "      <td>16.050000</td>\n",
       "      <td>1.350000</td>\n",
       "    </tr>\n",
       "  </tbody>\n",
       "</table>\n",
       "</div>"
      ],
      "text/plain": [
       "           rfood        rdur        rcon        rmrf          rf\n",
       "count  516.00000  516.000000  516.000000  516.000000  516.000000\n",
       "mean     0.66469    0.525368    0.427752    0.415504    0.473430\n",
       "std      4.54417    5.795300    5.790244    4.484188    0.220496\n",
       "min    -18.79000  -25.740000  -29.810000  -23.090000    0.110000\n",
       "25%     -1.65500   -2.752500   -2.735000   -2.230000    0.320000\n",
       "50%      0.67500    0.505000    0.470000    0.730000    0.430000\n",
       "75%      3.50750    4.000000    3.672500    3.422500    0.580000\n",
       "max     19.56000   19.740000   24.670000   16.050000    1.350000"
      ]
     },
     "execution_count": 79,
     "metadata": {},
     "output_type": "execute_result"
    }
   ],
   "source": [
    "stock.describe()"
   ]
  },
  {
   "cell_type": "markdown",
   "id": "d7cd70b8",
   "metadata": {},
   "source": [
    "### 3a) \n",
    "Construct a linear regression model using ordinary least squares method by applying the .LinearRegression() constructor in sklearn and find the training and test accuracy of this model using mean square error (mse). "
   ]
  },
  {
   "cell_type": "code",
   "execution_count": 80,
   "id": "47942164",
   "metadata": {},
   "outputs": [],
   "source": [
    "from sklearn.linear_model import LinearRegression\n",
    "from sklearn.model_selection import cross_val_score\n",
    "from sklearn.model_selection import train_test_split\n",
    "import math\n",
    "from sklearn.metrics import mean_squared_error\n",
    "from sklearn.linear_model import Ridge\n",
    "from sklearn.linear_model import Lasso"
   ]
  },
  {
   "cell_type": "code",
   "execution_count": 81,
   "id": "0df0a478",
   "metadata": {},
   "outputs": [],
   "source": [
    "# Train Test Split with 30%\n",
    "y = stock['rf']\n",
    "X = stock.drop('rf', axis = 1)\n",
    "X_train, X_test, y_train, y_test = train_test_split(X, y, test_size=0.3, random_state=42)"
   ]
  },
  {
   "cell_type": "code",
   "execution_count": 82,
   "id": "d4853593",
   "metadata": {},
   "outputs": [
    {
     "name": "stdout",
     "output_type": "stream",
     "text": [
      "MSE of test: 0.04576821003683135\n",
      "MSE of train: 0.04902253023212728\n"
     ]
    }
   ],
   "source": [
    "#Linear Regression Model\n",
    "lm = LinearRegression()\n",
    "lm.fit(X_train, y_train)\n",
    "test_preds = lm.predict(X_test)\n",
    "train_preds = lm.predict(X_train)\n",
    "print(\"MSE of test:\", mean_squared_error(y_test, test_preds))\n",
    "print(\"MSE of train:\", mean_squared_error(y_train, train_preds))"
   ]
  },
  {
   "cell_type": "markdown",
   "id": "1b3f5361",
   "metadata": {},
   "source": [
    "### 3b) \n",
    "Check for overfitting. Is there overfitting? Support your answer with some results you generated. "
   ]
  },
  {
   "cell_type": "markdown",
   "id": "c8c20aa5",
   "metadata": {},
   "source": [
    "There is overfitting in the dataset. While the test dataset has a slightly lower MSE than the training set, it is still relatively close. Test set has an MSE of 0.0458, while training dataset has MSE of 0.0490 indicating the model is a little more accurate for the test set. "
   ]
  },
  {
   "cell_type": "markdown",
   "id": "0ceb8882",
   "metadata": {},
   "source": [
    "### 3c) \n",
    "Fit a lasso regression on the data and check the training and test accuracy of the model using mse. Use the default alpha or penalty constant"
   ]
  },
  {
   "cell_type": "code",
   "execution_count": 83,
   "id": "f960d26b",
   "metadata": {},
   "outputs": [
    {
     "name": "stdout",
     "output_type": "stream",
     "text": [
      "MSE of test: 0.0460742567372723\n",
      "MSE of train: 0.04976682806301363\n"
     ]
    }
   ],
   "source": [
    "#Lasso Regression Model\n",
    "las = Lasso()\n",
    "las.fit(X_train, y_train)\n",
    "test_preds = las.predict(X_test)\n",
    "train_preds = las.predict(X_train)\n",
    "print(\"MSE of test:\", mean_squared_error(y_test, test_preds))\n",
    "print(\"MSE of train:\", mean_squared_error(y_train, train_preds))"
   ]
  },
  {
   "cell_type": "markdown",
   "id": "08685602",
   "metadata": {},
   "source": [
    "### 3d) \n",
    "Fit a  regression on the data and check the training and test accuracy of the model using mse. Use the default alpha or penalty constant"
   ]
  },
  {
   "cell_type": "code",
   "execution_count": 84,
   "id": "7185c575",
   "metadata": {},
   "outputs": [
    {
     "name": "stdout",
     "output_type": "stream",
     "text": [
      "MSE of test: 0.04576796261314673\n",
      "MSE of train: 0.0490225302984869\n"
     ]
    }
   ],
   "source": [
    "#Ridge Regression Model\n",
    "rdg = Ridge()\n",
    "rdg.fit(X_train, y_train)\n",
    "test_preds = rdg.predict(X_test)\n",
    "train_preds = rdg.predict(X_train)\n",
    "print(\"MSE of test:\", mean_squared_error(y_test, test_preds))\n",
    "print(\"MSE of train:\", mean_squared_error(y_train, train_preds))"
   ]
  },
  {
   "cell_type": "markdown",
   "id": "27a44671",
   "metadata": {},
   "source": [
    "### 3e) \n",
    "Which model is better, OLS, Lasso, or Ridge regression? "
   ]
  },
  {
   "cell_type": "markdown",
   "id": "4ba61b88",
   "metadata": {},
   "source": [
    "The Ridge regression is the better model. It has the lowest MSE out of the three models for the test set. The next best is the OLS Regression Model. \n",
    "\n",
    "* Ridge Model\n",
    "    * MSE of test: 0.04576796261314673\n",
    "    * MSE of train: 0.0490225302984869   \n",
    "* OLS Model\n",
    "    * MSE of test: 0.04576821003683135\n",
    "    * MSE of train: 0.04902253023212728\n",
    "* Lasso Model\n",
    "    * MSE of test: 0.0460742567372723\n",
    "    * MSE of train: 0.04976682806301363\n"
   ]
  },
  {
   "cell_type": "markdown",
   "id": "35735eed",
   "metadata": {},
   "source": [
    "### 3f) \n",
    "Tune the alpha hyperparameters of the lasso and ridge regression using any tuning technique of your choice? What is the best alpha value for the lasso regression and what is the best alpha value for the ridge regression?"
   ]
  },
  {
   "cell_type": "code",
   "execution_count": 85,
   "id": "04e52a1e",
   "metadata": {},
   "outputs": [],
   "source": [
    "from sklearn.model_selection import GridSearchCV"
   ]
  },
  {
   "cell_type": "markdown",
   "id": "685f4cde",
   "metadata": {},
   "source": [
    "##### Hyperparam tuning for Lasso"
   ]
  },
  {
   "cell_type": "code",
   "execution_count": 86,
   "id": "796c152e",
   "metadata": {},
   "outputs": [
    {
     "name": "stdout",
     "output_type": "stream",
     "text": [
      "Lasso(alpha=0.01)\n"
     ]
    }
   ],
   "source": [
    "new_params = {'alpha': [0.00001, 0.0001, 0.001, 0.01, 0.1, 1]}\n",
    "grid_las = GridSearchCV(estimator = las, param_grid = new_params, scoring=\"neg_mean_squared_error\")\n",
    "grid_las.fit(X_train, y_train)\n",
    "print(grid_las.best_estimator_)"
   ]
  },
  {
   "cell_type": "markdown",
   "id": "1e2da60b",
   "metadata": {},
   "source": [
    "##### Hyperparam tuning for Ridge"
   ]
  },
  {
   "cell_type": "code",
   "execution_count": 87,
   "id": "1c0178a7",
   "metadata": {},
   "outputs": [
    {
     "name": "stdout",
     "output_type": "stream",
     "text": [
      "Ridge(alpha=1)\n"
     ]
    }
   ],
   "source": [
    "new_params = {'alpha': [0.00001, 0.0001, 0.001, 0.01, 0.1, 1]}\n",
    "grid_rdg = GridSearchCV(estimator = rdg, param_grid = new_params, scoring=\"neg_mean_squared_error\")\n",
    "grid_rdg.fit(X_train, y_train)\n",
    "print(grid_rdg.best_estimator_)"
   ]
  },
  {
   "cell_type": "markdown",
   "id": "db96f940",
   "metadata": {},
   "source": [
    "The best alpha value for the Lasso regression is alpha = 0.01, while the best alpha value for Ridge regression is alpha = 1."
   ]
  }
 ],
 "metadata": {
  "kernelspec": {
   "display_name": "Python 3 (ipykernel)",
   "language": "python",
   "name": "python3"
  },
  "language_info": {
   "codemirror_mode": {
    "name": "ipython",
    "version": 3
   },
   "file_extension": ".py",
   "mimetype": "text/x-python",
   "name": "python",
   "nbconvert_exporter": "python",
   "pygments_lexer": "ipython3",
   "version": "3.9.12"
  }
 },
 "nbformat": 4,
 "nbformat_minor": 5
}
